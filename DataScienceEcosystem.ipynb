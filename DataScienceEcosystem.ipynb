{
 "cells": [
  {
   "cell_type": "markdown",
   "id": "e07c27ae-93e0-4b95-94f9-cc028bf78920",
   "metadata": {},
   "source": [
    "# Data Science Tools and Ecosystem"
   ]
  },
  {
   "cell_type": "markdown",
   "id": "fdd5a63b-fc15-42ef-a661-2c03719014e0",
   "metadata": {},
   "source": [
    "In this notebook, Data Science Tools and Ecosystem are summarized."
   ]
  },
  {
   "cell_type": "markdown",
   "id": "04f12c32-8507-4e92-adcc-39ac0f62283b",
   "metadata": {},
   "source": [
    "**Objectives:**\n",
    "* Create markdown cell\n",
    "* Create Unordered and ordered list\n",
    "* Create Arithmetic expressions examples\n",
    "  "
   ]
  },
  {
   "cell_type": "markdown",
   "id": "f9f12e7f-3caf-4177-8f57-4bd64a1b20b4",
   "metadata": {},
   "source": [
    "Some of the popular languages that Data Scientists use are:\n",
    "1. Python\n",
    "2. R\n",
    "3. Java\n"
   ]
  },
  {
   "cell_type": "markdown",
   "id": "2a0a3588-72c2-4f30-bb2b-5ee91cfcccef",
   "metadata": {},
   "source": [
    "Some of the commonly used libraries used by Data Scientists include:\n",
    "\n",
    "1. \"Pandas\"\n",
    "2. \"matplotlib\"\n",
    "3. \"Keras\""
   ]
  },
  {
   "cell_type": "markdown",
   "id": "fb7f5dd0-a3ab-4e91-961f-009ee77231cd",
   "metadata": {},
   "source": [
    "|Data Science Tools|\n",
    "|------------------|\n",
    "|Google Colab|\n",
    "|Jupyter Notebooks|\n",
    "| Vs Code|"
   ]
  },
  {
   "cell_type": "markdown",
   "id": "884f6d11-c893-4404-b168-45eef7028203",
   "metadata": {},
   "source": [
    "### Below are a few examples of evaluating arithmetic expressions in Python"
   ]
  },
  {
   "cell_type": "code",
   "execution_count": 7,
   "id": "5d8f0146-9f0f-4dfd-94aa-9a7502337406",
   "metadata": {},
   "outputs": [
    {
     "data": {
      "text/plain": [
       "17"
      ]
     },
     "execution_count": 7,
     "metadata": {},
     "output_type": "execute_result"
    }
   ],
   "source": [
    "(3*4)+5\n",
    "#This a simple arithmetic expression to mutiply then add integers"
   ]
  },
  {
   "cell_type": "code",
   "execution_count": 4,
   "id": "6848f429-56d5-4188-bc10-3b96f34855fe",
   "metadata": {},
   "outputs": [
    {
     "data": {
      "text/plain": [
       "'3.3333333333333335hours'"
      ]
     },
     "execution_count": 4,
     "metadata": {},
     "output_type": "execute_result"
    }
   ],
   "source": [
    "str(200/60) + \" hours\"\n",
    "#convert 200 minutes to hours by diving by 60"
   ]
  },
  {
   "cell_type": "markdown",
   "id": "d0643957-7212-44ea-b6bc-d2cb7e520984",
   "metadata": {},
   "source": [
    "## Author:\n",
    "\"Lakshmi Holla and Niveditha Pandith\""
   ]
  },
  {
   "cell_type": "code",
   "execution_count": null,
   "id": "45606933-bc16-4f26-98cd-e52cb4450c5d",
   "metadata": {},
   "outputs": [],
   "source": []
  }
 ],
 "metadata": {
  "kernelspec": {
   "display_name": "Python 3 (ipykernel)",
   "language": "python",
   "name": "python3"
  },
  "language_info": {
   "codemirror_mode": {
    "name": "ipython",
    "version": 3
   },
   "file_extension": ".py",
   "mimetype": "text/x-python",
   "name": "python",
   "nbconvert_exporter": "python",
   "pygments_lexer": "ipython3",
   "version": "3.11.9"
  }
 },
 "nbformat": 4,
 "nbformat_minor": 5
}
